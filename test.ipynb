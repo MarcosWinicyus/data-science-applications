{
 "metadata": {
  "language_info": {
   "codemirror_mode": {
    "name": "ipython",
    "version": 3
   },
   "file_extension": ".py",
   "mimetype": "text/x-python",
   "name": "python",
   "nbconvert_exporter": "python",
   "pygments_lexer": "ipython3",
   "version": "3.8.5-final"
  },
  "orig_nbformat": 2,
  "kernelspec": {
   "name": "python3",
   "display_name": "Python 3",
   "language": "python"
  }
 },
 "nbformat": 4,
 "nbformat_minor": 2,
 "cells": [
  {
   "cell_type": "code",
   "execution_count": 9,
   "metadata": {},
   "outputs": [
    {
     "output_type": "stream",
     "name": "stdout",
     "text": [
      "/personal/study/streamlit/eda_cryptocurrency\n"
     ]
    },
    {
     "output_type": "execute_result",
     "data": {
      "text/plain": [
       "'/personal/study/streamlit'"
      ]
     },
     "metadata": {},
     "execution_count": 9
    }
   ],
   "source": [
    "import os\n",
    "cwd = os.getcwd()\n",
    "print(cwd)\n",
    "os.chdir(\"/personal/study/streamlit\")\n",
    "mypath = %pwd\n",
    "mypath"
   ]
  },
  {
   "cell_type": "code",
   "execution_count": 10,
   "metadata": {},
   "outputs": [
    {
     "output_type": "stream",
     "name": "stdout",
     "text": [
      "Collecting python-dotenv\n",
      "  Downloading python_dotenv-0.16.0-py2.py3-none-any.whl (18 kB)\n",
      "Installing collected packages: python-dotenv\n",
      "Successfully installed python-dotenv-0.16.0\n",
      "Note: you may need to restart the kernel to use updated packages.\n"
     ]
    }
   ],
   "source": [
    "%pip install python-dotenv"
   ]
  },
  {
   "cell_type": "code",
   "execution_count": 9,
   "metadata": {},
   "outputs": [],
   "source": [
    "import os\n",
    "from dotenv import load_dotenv\n",
    "os.chdir(\"/personal/study/streamlit\")\n",
    "load_dotenv()\n",
    "\n",
    "GCP_PROJECT_ID = os.getenv('APP_DIR','/')"
   ]
  },
  {
   "cell_type": "code",
   "execution_count": 10,
   "metadata": {},
   "outputs": [
    {
     "output_type": "execute_result",
     "data": {
      "text/plain": [
       "'/personal/study/streamlit'"
      ]
     },
     "metadata": {},
     "execution_count": 10
    }
   ],
   "source": [
    "GCP_PROJECT_ID"
   ]
  },
  {
   "cell_type": "code",
   "execution_count": 11,
   "metadata": {},
   "outputs": [],
   "source": [
    "import os\n",
    "is_prod = os.environ.get('DEBUSSY', 'teste')"
   ]
  },
  {
   "cell_type": "code",
   "execution_count": 12,
   "metadata": {},
   "outputs": [
    {
     "output_type": "execute_result",
     "data": {
      "text/plain": [
       "'1'"
      ]
     },
     "metadata": {},
     "execution_count": 12
    }
   ],
   "source": [
    "is_prod"
   ]
  },
  {
   "cell_type": "code",
   "execution_count": 3,
   "metadata": {},
   "outputs": [
    {
     "output_type": "error",
     "ename": "ModuleNotFoundError",
     "evalue": "No module named 'streamlit'",
     "traceback": [
      "\u001b[0;31m---------------------------------------------------------------------------\u001b[0m",
      "\u001b[0;31mModuleNotFoundError\u001b[0m                       Traceback (most recent call last)",
      "\u001b[0;32m<ipython-input-3-e321118ef5e9>\u001b[0m in \u001b[0;36m<module>\u001b[0;34m\u001b[0m\n\u001b[0;32m----> 1\u001b[0;31m \u001b[0;32mimport\u001b[0m \u001b[0mstreamlit\u001b[0m \u001b[0;32mas\u001b[0m \u001b[0mst\u001b[0m\u001b[0;34m\u001b[0m\u001b[0;34m\u001b[0m\u001b[0m\n\u001b[0m\u001b[1;32m      2\u001b[0m \u001b[0;32mfrom\u001b[0m \u001b[0mPIL\u001b[0m \u001b[0;32mimport\u001b[0m \u001b[0mImage\u001b[0m\u001b[0;34m\u001b[0m\u001b[0;34m\u001b[0m\u001b[0m\n\u001b[1;32m      3\u001b[0m \u001b[0;32mimport\u001b[0m \u001b[0mpandas\u001b[0m \u001b[0;32mas\u001b[0m \u001b[0mpd\u001b[0m\u001b[0;34m\u001b[0m\u001b[0;34m\u001b[0m\u001b[0m\n\u001b[1;32m      4\u001b[0m \u001b[0;32mimport\u001b[0m \u001b[0mbase64\u001b[0m\u001b[0;34m\u001b[0m\u001b[0;34m\u001b[0m\u001b[0m\n\u001b[1;32m      5\u001b[0m \u001b[0;32mimport\u001b[0m \u001b[0mmatplotlib\u001b[0m\u001b[0;34m.\u001b[0m\u001b[0mpyplot\u001b[0m \u001b[0;32mas\u001b[0m \u001b[0mplt\u001b[0m\u001b[0;34m\u001b[0m\u001b[0;34m\u001b[0m\u001b[0m\n",
      "\u001b[0;31mModuleNotFoundError\u001b[0m: No module named 'streamlit'"
     ]
    }
   ],
   "source": [
    "import streamlit as st\n",
    "from PIL import Image\n",
    "import pandas as pd\n",
    "import base64\n",
    "import matplotlib.pyplot as plt\n",
    "from bs4 import BeautifulSoup\n",
    "import requests\n",
    "import json\n",
    "import time\n",
    "import os"
   ]
  },
  {
   "cell_type": "code",
   "execution_count": 1,
   "metadata": {},
   "outputs": [],
   "source": [
    "import os\n",
    "os.chdir(\"/personal/study/streamlit\")"
   ]
  },
  {
   "cell_type": "code",
   "execution_count": 5,
   "metadata": {},
   "outputs": [
    {
     "output_type": "error",
     "ename": "ModuleNotFoundError",
     "evalue": "No module named 'altair'",
     "traceback": [
      "\u001b[0;31m---------------------------------------------------------------------------\u001b[0m",
      "\u001b[0;31mModuleNotFoundError\u001b[0m                       Traceback (most recent call last)",
      "\u001b[0;32m<ipython-input-5-91b70e69fd48>\u001b[0m in \u001b[0;36m<module>\u001b[0;34m\u001b[0m\n\u001b[0;32m----> 1\u001b[0;31m \u001b[0;32mfrom\u001b[0m \u001b[0meda_basketball\u001b[0m \u001b[0;32mimport\u001b[0m \u001b[0mbasketball_app\u001b[0m\u001b[0;34m\u001b[0m\u001b[0;34m\u001b[0m\u001b[0m\n\u001b[0m\u001b[1;32m      2\u001b[0m \u001b[0;32mfrom\u001b[0m \u001b[0meda_cryptocurrency\u001b[0m \u001b[0;32mimport\u001b[0m \u001b[0mcrypto_price_app\u001b[0m\u001b[0;34m\u001b[0m\u001b[0;34m\u001b[0m\u001b[0m\n\u001b[1;32m      3\u001b[0m \u001b[0;32mfrom\u001b[0m \u001b[0meda_football\u001b[0m \u001b[0;32mimport\u001b[0m \u001b[0mfootball_app\u001b[0m\u001b[0;34m\u001b[0m\u001b[0;34m\u001b[0m\u001b[0m\n\u001b[1;32m      4\u001b[0m \u001b[0;32mfrom\u001b[0m \u001b[0meda_sp_500\u001b[0m \u001b[0;32mimport\u001b[0m \u001b[0msp_500\u001b[0m\u001b[0;34m\u001b[0m\u001b[0;34m\u001b[0m\u001b[0m\n",
      "\u001b[0;32m/personal/study/streamlit/eda_basketball/basketball_app.py\u001b[0m in \u001b[0;36m<module>\u001b[0;34m\u001b[0m\n\u001b[1;32m      1\u001b[0m \u001b[0;32mfrom\u001b[0m \u001b[0menum\u001b[0m \u001b[0;32mimport\u001b[0m \u001b[0munique\u001b[0m\u001b[0;34m\u001b[0m\u001b[0;34m\u001b[0m\u001b[0m\n\u001b[0;32m----> 2\u001b[0;31m \u001b[0;32mfrom\u001b[0m \u001b[0maltair\u001b[0m\u001b[0;34m.\u001b[0m\u001b[0mvegalite\u001b[0m\u001b[0;34m.\u001b[0m\u001b[0mv4\u001b[0m\u001b[0;34m.\u001b[0m\u001b[0mapi\u001b[0m \u001b[0;32mimport\u001b[0m \u001b[0mselection\u001b[0m\u001b[0;34m\u001b[0m\u001b[0;34m\u001b[0m\u001b[0m\n\u001b[0m\u001b[1;32m      3\u001b[0m \u001b[0;32mfrom\u001b[0m \u001b[0maltair\u001b[0m\u001b[0;34m.\u001b[0m\u001b[0mvegalite\u001b[0m\u001b[0;34m.\u001b[0m\u001b[0mv4\u001b[0m\u001b[0;34m.\u001b[0m\u001b[0mschema\u001b[0m\u001b[0;34m.\u001b[0m\u001b[0mcore\u001b[0m \u001b[0;32mimport\u001b[0m \u001b[0mHeader\u001b[0m\u001b[0;34m\u001b[0m\u001b[0;34m\u001b[0m\u001b[0m\n\u001b[1;32m      4\u001b[0m \u001b[0;32mimport\u001b[0m \u001b[0mstreamlit\u001b[0m \u001b[0;32mas\u001b[0m \u001b[0mst\u001b[0m\u001b[0;34m\u001b[0m\u001b[0;34m\u001b[0m\u001b[0m\n\u001b[1;32m      5\u001b[0m \u001b[0;32mimport\u001b[0m \u001b[0mpandas\u001b[0m \u001b[0;32mas\u001b[0m \u001b[0mpd\u001b[0m\u001b[0;34m\u001b[0m\u001b[0;34m\u001b[0m\u001b[0m\n",
      "\u001b[0;31mModuleNotFoundError\u001b[0m: No module named 'altair'"
     ]
    }
   ],
   "source": []
  },
  {
   "cell_type": "code",
   "execution_count": 23,
   "metadata": {
    "tags": [
     "outputPrepend"
    ]
   },
   "outputs": [
    {
     "output_type": "stream",
     "name": "stdout",
     "text": [
      "btc', 'price': 0.0002471, 'volume24h': 3526.61199412, 'volume7d': 15853.9114791, 'volume30d': 92763.32870349, 'marketCap': 14826.2219138, 'percentChange1h': 1.016755, 'percentChange24h': 8.417923, 'percentChange7d': 1.560906, 'lastUpdated': '2021-03-29T03:36:02.000Z', 'percentChange30d': -17.7840006, 'percentChange60d': 159.4709376, 'percentChange90d': 83.38973949, 'fullyDilluttedMarketCap': 4125179043.51, 'dominance': 0.047, 'turnover': 0.23786316, 'ytdPriceChangePercentage': 49.2967}, 'eth': {'name': 'eth', 'price': 0.008088, 'volume24h': 115430.23034551, 'volume7d': 518917.49275529, 'volume30d': 3036254.74469786, 'marketCap': 485279.98359785, 'percentChange1h': 0.852707, 'percentChange24h': 8.504641, 'percentChange7d': 3.295982, 'lastUpdated': '2021-03-29T03:36:02.000Z', 'percentChange30d': -17.7840006, 'percentChange60d': 159.4709376, 'percentChange90d': 83.38973949, 'fullyDilluttedMarketCap': 4125179043.51, 'dominance': 0.047, 'turnover': 0.23786316, 'ytdPriceChangePercentage': 49.2967}, 'USD': {'name': 'USD', 'price': 13.75059681171129, 'volume24h': 196245624.50686994, 'volume7d': 882223721.8836424, 'volume30d': 5162007445.984143, 'marketCap': 825035808.7026774, 'percentChange1h': 1.6163309, 'percentChange24h': 7.83315756, 'percentChange7d': -1.02755012, 'lastUpdated': '2021-03-29T03:35:09.000Z', 'percentChange30d': -17.7840006, 'percentChange60d': 159.4709376, 'percentChange90d': 83.38973949, 'fullyDilluttedMarketCap': 4125179043.51, 'dominance': 0.047, 'turnover': 0.23786316, 'ytdPriceChangePercentage': 49.2967}}}\n{'id': 1684, 'name': 'Qtum', 'symbol': 'QTUM', 'slug': 'qtum', 'tags': ['platform', 'smart-contracts', 'kinetic-capital'], 'cmcRank': 96, 'marketPairCount': 194, 'circulatingSupply': 98239420.7260568, 'totalSupply': 103273224, 'maxSupply': 107822406, 'ath': 99.86587524, 'atl': 0.77001772, 'high24h': 8.55070234, 'low24h': 8.13077431, 'isActive': 1, 'lastUpdated': '2021-03-29T03:36:07.000Z', 'dateAdded': '2017-05-24T00:00:00.000Z', 'quotes': [{'name': 'btc', 'price': 0.00014797, 'volume24h': 7879.96102853, 'volume7d': 85750.73139035, 'volume30d': 2543929.69165472, 'marketCap': 14536.38949342, 'percentChange1h': 0.292575, 'percentChange24h': -1.46165, 'percentChange7d': 25.657129, 'lastUpdated': '2021-03-29T03:36:02.000Z', 'percentChange30d': 48.00565729, 'percentChange60d': 162.66006306, 'percentChange90d': 250.08183925, 'fullyDilluttedMarketCap': 887814183.77, 'dominance': 0.046, 'turnover': 0.54208516, 'ytdPriceChangePercentage': 262.3708}, {'name': 'eth', 'price': 0.0048432, 'volume24h': 257920.55325435, 'volume7d': 2806724.04369495, 'volume30d': 83265862.75438286, 'marketCap': 475793.42167911, 'percentChange1h': 0.129703, 'percentChange24h': -1.382834, 'percentChange7d': 27.803866, 'lastUpdated': '2021-03-29T03:36:02.000Z', 'percentChange30d': 48.00565729, 'percentChange60d': 162.66006306, 'percentChange90d': 250.08183925, 'fullyDilluttedMarketCap': 887814183.77, 'dominance': 0.046, 'turnover': 0.54208516, 'ytdPriceChangePercentage': 262.3708}, {'name': 'USD', 'price': 8.23404166818963, 'volume24h': 438496742.9680499, 'volume7d': 4771776952.403841, 'volume30d': 141562233631.74667, 'marketCap': 808907483.7171637, 'percentChange1h': 0.88785262, 'percentChange24h': -1.9931277, 'percentChange7d': 22.45453768, 'lastUpdated': '2021-03-29T03:36:07.000Z', 'percentChange30d': 48.00565729, 'percentChange60d': 162.66006306, 'percentChange90d': 250.08183925, 'fullyDilluttedMarketCap': 887814183.77, 'dominance': 0.046, 'turnover': 0.54208516, 'ytdPriceChangePercentage': 262.3708}], 'rank': 96, 'hasFilters': False, 'quote': {'btc': {'name': 'btc', 'price': 0.00014797, 'volume24h': 7879.96102853, 'volume7d': 85750.73139035, 'volume30d': 2543929.69165472, 'marketCap': 14536.38949342, 'percentChange1h': 0.292575, 'percentChange24h': -1.46165, 'percentChange7d': 25.657129, 'lastUpdated': '2021-03-29T03:36:02.000Z', 'percentChange30d': 48.00565729, 'percentChange60d': 162.66006306, 'percentChange90d': 250.08183925, 'fullyDilluttedMarketCap': 887814183.77, 'dominance': 0.046, 'turnover': 0.54208516, 'ytdPriceChangePercentage': 262.3708}, 'eth': {'name': 'eth', 'price': 0.0048432, 'volume24h': 257920.55325435, 'volume7d': 2806724.04369495, 'volume30d': 83265862.75438286, 'marketCap': 475793.42167911, 'percentChange1h': 0.129703, 'percentChange24h': -1.382834, 'percentChange7d': 27.803866, 'lastUpdated': '2021-03-29T03:36:02.000Z', 'percentChange30d': 48.00565729, 'percentChange60d': 162.66006306, 'percentChange90d': 250.08183925, 'fullyDilluttedMarketCap': 887814183.77, 'dominance': 0.046, 'turnover': 0.54208516, 'ytdPriceChangePercentage': 262.3708}, 'USD': {'name': 'USD', 'price': 8.23404166818963, 'volume24h': 438496742.9680499, 'volume7d': 4771776952.403841, 'volume30d': 141562233631.74667, 'marketCap': 808907483.7171637, 'percentChange1h': 0.88785262, 'percentChange24h': -1.9931277, 'percentChange7d': 22.45453768, 'lastUpdated': '2021-03-29T03:36:07.000Z', 'percentChange30d': 48.00565729, 'percentChange60d': 162.66006306, 'percentChange90d': 250.08183925, 'fullyDilluttedMarketCap': 887814183.77, 'dominance': 0.046, 'turnover': 0.54208516, 'ytdPriceChangePercentage': 262.3708}}}\n{'id': 2405, 'name': 'IOST', 'symbol': 'IOST', 'slug': 'iostoken', 'tags': ['hardware', 'iot', 'huobi-capital'], 'cmcRank': 97, 'marketPairCount': 90, 'circulatingSupply': 16374175762, 'totalSupply': 22306434689, 'ath': 0.13649581, 'atl': 0.00156204, 'high24h': 0.05063361, 'low24h': 0.04841986, 'isActive': 1, 'lastUpdated': '2021-03-29T03:36:05.000Z', 'dateAdded': '2018-01-16T00:00:00.000Z', 'quotes': [{'name': 'btc', 'price': 8.8e-07, 'volume24h': 4380.27289717, 'volume7d': 63023.90862385, 'volume30d': 574699.8330421, 'marketCap': 14375.11455344, 'percentChange1h': -0.055128, 'percentChange24h': 0.111888, 'percentChange7d': -5.15574, 'lastUpdated': '2021-03-29T03:36:02.000Z', 'percentChange30d': 18.75756935, 'percentChange60d': 206.52438121, 'percentChange90d': 747.66672422, 'fullyDilluttedMarketCap': 1089743606.63, 'dominance': 0.0455, 'turnover': 0.30471221, 'ytdPriceChangePercentage': 742.0563}, {'name': 'eth', 'price': 2.874e-05, 'volume24h': 143371.57315289, 'volume7d': 2062847.94070111, 'volume30d': 18810613.19423633, 'marketCap': 470514.69991951, 'percentChange1h': -0.217436, 'percentChange24h': 0.191963, 'percentChange7d': -3.535412, 'lastUpdated': '2021-03-29T03:36:02.000Z', 'percentChange30d': 18.75756935, 'percentChange60d': 206.52438121, 'percentChange90d': 747.66672422, 'fullyDilluttedMarketCap': 1089743606.63, 'dominance': 0.0455, 'turnover': 0.30471221, 'ytdPriceChangePercentage': 742.0563}, {'name': 'USD', 'price': 0.04885332962523, 'volume24h': 243749352.53705448, 'volume7d': 3507095854.9928226, 'volume30d': 31980361839.447025, 'marketCap': 799933005.8424376, 'percentChange1h': 0.53808638, 'percentChange24h': -0.42807693, 'percentChange7d': -7.57301125, 'lastUpdated': '2021-03-29T03:36:05.000Z', 'percentChange30d': 18.75756935, 'percentChange60d': 206.52438121, 'percentChange90d': 747.66672422, 'fullyDilluttedMarketCap': 1089743606.63, 'dominance': 0.0455, 'turnover': 0.30471221, 'ytdPriceChangePercentage': 742.0563}], 'rank': 97, 'hasFilters': False, 'quote': {'btc': {'name': 'btc', 'price': 8.8e-07, 'volume24h': 4380.27289717, 'volume7d': 63023.90862385, 'volume30d': 574699.8330421, 'marketCap': 14375.11455344, 'percentChange1h': -0.055128, 'percentChange24h': 0.111888, 'percentChange7d': -5.15574, 'lastUpdated': '2021-03-29T03:36:02.000Z', 'percentChange30d': 18.75756935, 'percentChange60d': 206.52438121, 'percentChange90d': 747.66672422, 'fullyDilluttedMarketCap': 1089743606.63, 'dominance': 0.0455, 'turnover': 0.30471221, 'ytdPriceChangePercentage': 742.0563}, 'eth': {'name': 'eth', 'price': 2.874e-05, 'volume24h': 143371.57315289, 'volume7d': 2062847.94070111, 'volume30d': 18810613.19423633, 'marketCap': 470514.69991951, 'percentChange1h': -0.217436, 'percentChange24h': 0.191963, 'percentChange7d': -3.535412, 'lastUpdated': '2021-03-29T03:36:02.000Z', 'percentChange30d': 18.75756935, 'percentChange60d': 206.52438121, 'percentChange90d': 747.66672422, 'fullyDilluttedMarketCap': 1089743606.63, 'dominance': 0.0455, 'turnover': 0.30471221, 'ytdPriceChangePercentage': 742.0563}, 'USD': {'name': 'USD', 'price': 0.04885332962523, 'volume24h': 243749352.53705448, 'volume7d': 3507095854.9928226, 'volume30d': 31980361839.447025, 'marketCap': 799933005.8424376, 'percentChange1h': 0.53808638, 'percentChange24h': -0.42807693, 'percentChange7d': -7.57301125, 'lastUpdated': '2021-03-29T03:36:05.000Z', 'percentChange30d': 18.75756935, 'percentChange60d': 206.52438121, 'percentChange90d': 747.66672422, 'fullyDilluttedMarketCap': 1089743606.63, 'dominance': 0.0455, 'turnover': 0.30471221, 'ytdPriceChangePercentage': 742.0563}}}\n{'id': 5665, 'name': 'Helium', 'symbol': 'HNT', 'slug': 'helium', 'tags': ['mineable', 'enterprise-solutions', 'distributed-computing', 'iot', 'usv-portfolio', 'multicoin-capital-portfolio'], 'cmcRank': 98, 'marketPairCount': 12, 'circulatingSupply': 76137519.25855562, 'totalSupply': 223000000, 'maxSupply': 223000000, 'ath': 11.96962721, 'atl': 0.25339091, 'high24h': 11.2503907, 'low24h': 9.85457848, 'isActive': 1, 'lastUpdated': '2021-03-29T03:36:06.000Z', 'dateAdded': '2020-06-05T00:00:00.000Z', 'quotes': [{'name': 'btc', 'price': 0.00018833, 'volume24h': 447.46715958, 'volume7d': 1985.95263351, 'volume30d': 6491.67473233, 'marketCap': 14339.100945, 'percentChange1h': 2.368795, 'percentChange24h': -8.751813, 'percentChange7d': 9.98761, 'lastUpdated': '2021-03-29T03:36:02.000Z', 'percentChange30d': 161.61782454, 'percentChange60d': 387.65052009, 'percentChange90d': 670.65899366, 'fullyDilluttedMarketCap': 2337062705.57, 'dominance': 0.0454, 'turnover': 0.03120608, 'ytdPriceChangePercentage': 672.4944}, {'name': 'eth', 'price': 0.00616432, 'volume24h': 14646.1355513, 'volume7d': 65002.60599232, 'volume30d': 212480.28162153, 'marketCap': 469335.93142318, 'percentChange1h': 2.202551, 'percentChange24h': -8.678828, 'percentChange7d': 11.866648, 'lastUpdated': '2021-03-29T03:36:02.000Z', 'percentChange30d': 161.61782454, 'percentChange60d': 387.65052009, 'percentChange90d': 670.65899366, 'fullyDilluttedMarketCap': 2337062705.57, 'dominance': 0.0454, 'turnover': 0.03120608, 'ytdPriceChangePercentage': 672.4944}, {'name': 'USD', 'price': 10.48010181869765, 'volume24h': 24900236.35294145, 'volume7d': 110512445.21781473, 'volume30d': 361242678.2602896, 'marketCap': 797928954.0527161, 'percentChange1h': 2.97639564, 'percentChange24h': -9.24397146, 'percentChange7d': 7.18438413, 'lastUpdated': '2021-03-29T03:36:06.000Z', 'percentChange30d': 161.61782454, 'percentChange60d': 387.65052009, 'percentChange90d': 670.65899366, 'fullyDilluttedMarketCap': 2337062705.57, 'dominance': 0.0454, 'turnover': 0.03120608, 'ytdPriceChangePercentage': 672.4944}], 'rank': 98, 'hasFilters': False, 'quote': {'btc': {'name': 'btc', 'price': 0.00018833, 'volume24h': 447.46715958, 'volume7d': 1985.95263351, 'volume30d': 6491.67473233, 'marketCap': 14339.100945, 'percentChange1h': 2.368795, 'percentChange24h': -8.751813, 'percentChange7d': 9.98761, 'lastUpdated': '2021-03-29T03:36:02.000Z', 'percentChange30d': 161.61782454, 'percentChange60d': 387.65052009, 'percentChange90d': 670.65899366, 'fullyDilluttedMarketCap': 2337062705.57, 'dominance': 0.0454, 'turnover': 0.03120608, 'ytdPriceChangePercentage': 672.4944}, 'eth': {'name': 'eth', 'price': 0.00616432, 'volume24h': 14646.1355513, 'volume7d': 65002.60599232, 'volume30d': 212480.28162153, 'marketCap': 469335.93142318, 'percentChange1h': 2.202551, 'percentChange24h': -8.678828, 'percentChange7d': 11.866648, 'lastUpdated': '2021-03-29T03:36:02.000Z', 'percentChange30d': 161.61782454, 'percentChange60d': 387.65052009, 'percentChange90d': 670.65899366, 'fullyDilluttedMarketCap': 2337062705.57, 'dominance': 0.0454, 'turnover': 0.03120608, 'ytdPriceChangePercentage': 672.4944}, 'USD': {'name': 'USD', 'price': 10.48010181869765, 'volume24h': 24900236.35294145, 'volume7d': 110512445.21781473, 'volume30d': 361242678.2602896, 'marketCap': 797928954.0527161, 'percentChange1h': 2.97639564, 'percentChange24h': -9.24397146, 'percentChange7d': 7.18438413, 'lastUpdated': '2021-03-29T03:36:06.000Z', 'percentChange30d': 161.61782454, 'percentChange60d': 387.65052009, 'percentChange90d': 670.65899366, 'fullyDilluttedMarketCap': 2337062705.57, 'dominance': 0.0454, 'turnover': 0.03120608, 'ytdPriceChangePercentage': 672.4944}}}\n{'id': 4779, 'name': 'HUSD', 'symbol': 'HUSD', 'slug': 'husd', 'tags': ['pow', 'medium-of-exchange', 'stablecoin', 'stablecoin-asset-backed'], 'cmcRank': 99, 'marketPairCount': 80, 'circulatingSupply': 741746751.3692708, 'totalSupply': 741746751.3692708, 'ath': 1.09069874, 'atl': 0.89596876, 'high24h': 1.00410592, 'low24h': 1.00046444, 'isActive': 1, 'lastUpdated': '2021-03-29T03:36:07.000Z', 'dateAdded': '2019-10-15T00:00:00.000Z', 'quotes': [{'name': 'btc', 'price': 1.8e-05, 'volume24h': 13430.02351122, 'volume7d': 103002.46870664, 'volume30d': 401201.1120273, 'marketCap': 13348.20537227, 'percentChange1h': -0.567219, 'percentChange24h': 0.620851, 'percentChange7d': 2.670335, 'lastUpdated': '2021-03-29T03:36:02.000Z', 'percentChange30d': 0.26638067, 'percentChange60d': 0.18145858, 'percentChange90d': 0.03732273, 'fullyDilluttedMarketCap': 742788518.75, 'dominance': 0.0423, 'turnover': 1.00612952, 'ytdPriceChangePercentage': 0.1679}, {'name': 'eth', 'price': 0.00058902, 'volume24h': 439580.73925609, 'volume7d': 3371394.04867384, 'volume30d': 13131792.45501924, 'marketCap': 436902.73366868, 'percentChange1h': -0.728696, 'percentChange24h': 0.701332, 'percentChange7d': 4.424364, 'lastUpdated': '2021-03-29T03:36:02.000Z', 'percentChange30d': 0.26638067, 'percentChange60d': 0.18145858, 'percentChange90d': 0.03732273, 'fullyDilluttedMarketCap': 742788518.75, 'dominance': 0.0423, 'turnover': 1.00612952, 'ytdPriceChangePercentage': 0.1679}, {'name': 'USD', 'price': 1.00140447852455, 'volume24h': 747341458.4575429, 'volume7d': 5731785586.4998455, 'volume30d': 22325666365.87442, 'marketCap': 742788518.7522236, 'percentChange1h': 0.02295464, 'percentChange24h': 0.07813991, 'percentChange7d': 0.05360279, 'lastUpdated': '2021-03-29T03:36:07.000Z', 'percentChange30d': 0.26638067, 'percentChange60d': 0.18145858, 'percentChange90d': 0.03732273, 'fullyDilluttedMarketCap': 742788518.75, 'dominance': 0.0423, 'turnover': 1.00612952, 'ytdPriceChangePercentage': 0.1679}], 'platform': {'id': 1027, 'name': 'Ethereum', 'symbol': 'ETH', 'slug': 'ethereum', 'token_address': '0xdf574c24545e5ffecb9a659c229253d4111d87e1'}, 'rank': 99, 'hasFilters': False, 'quote': {'btc': {'name': 'btc', 'price': 1.8e-05, 'volume24h': 13430.02351122, 'volume7d': 103002.46870664, 'volume30d': 401201.1120273, 'marketCap': 13348.20537227, 'percentChange1h': -0.567219, 'percentChange24h': 0.620851, 'percentChange7d': 2.670335, 'lastUpdated': '2021-03-29T03:36:02.000Z', 'percentChange30d': 0.26638067, 'percentChange60d': 0.18145858, 'percentChange90d': 0.03732273, 'fullyDilluttedMarketCap': 742788518.75, 'dominance': 0.0423, 'turnover': 1.00612952, 'ytdPriceChangePercentage': 0.1679}, 'eth': {'name': 'eth', 'price': 0.00058902, 'volume24h': 439580.73925609, 'volume7d': 3371394.04867384, 'volume30d': 13131792.45501924, 'marketCap': 436902.73366868, 'percentChange1h': -0.728696, 'percentChange24h': 0.701332, 'percentChange7d': 4.424364, 'lastUpdated': '2021-03-29T03:36:02.000Z', 'percentChange30d': 0.26638067, 'percentChange60d': 0.18145858, 'percentChange90d': 0.03732273, 'fullyDilluttedMarketCap': 742788518.75, 'dominance': 0.0423, 'turnover': 1.00612952, 'ytdPriceChangePercentage': 0.1679}, 'USD': {'name': 'USD', 'price': 1.00140447852455, 'volume24h': 747341458.4575429, 'volume7d': 5731785586.4998455, 'volume30d': 22325666365.87442, 'marketCap': 742788518.7522236, 'percentChange1h': 0.02295464, 'percentChange24h': 0.07813991, 'percentChange7d': 0.05360279, 'lastUpdated': '2021-03-29T03:36:07.000Z', 'percentChange30d': 0.26638067, 'percentChange60d': 0.18145858, 'percentChange90d': 0.03732273, 'fullyDilluttedMarketCap': 742788518.75, 'dominance': 0.0423, 'turnover': 1.00612952, 'ytdPriceChangePercentage': 0.1679}}}\n{'id': 1772, 'name': 'Storj', 'symbol': 'STORJ', 'slug': 'storj', 'tags': ['platform', 'distributed-computing', 'filesharing', 'storage'], 'cmcRank': 100, 'marketPairCount': 68, 'circulatingSupply': 253326754.6844358, 'totalSupply': 424999998.00001335, 'ath': 3.90788278, 'atl': 0.04835293, 'high24h': 3.86384618, 'low24h': 2.63438939, 'isActive': 1, 'lastUpdated': '2021-03-29T03:35:08.000Z', 'dateAdded': '2017-07-02T00:00:00.000Z', 'quotes': [{'name': 'btc', 'price': 5.191e-05, 'volume24h': 37756.30976264, 'volume7d': 97044.1766696, 'volume30d': 298050.30552427, 'marketCap': 13150.38955408, 'percentChange1h': 3.589615, 'percentChange24h': -13.140747, 'percentChange7d': 206.300125, 'lastUpdated': '2021-03-29T03:36:02.000Z', 'percentChange30d': 368.96703255, 'percentChange60d': 660.52916, 'percentChange90d': 851.87766155, 'fullyDilluttedMarketCap': 1227690199.38, 'dominance': 0.0417, 'turnover': 2.87111721, 'ytdPriceChangePercentage': 874.9597}, {'name': 'eth', 'price': 0.0016991, 'volume24h': 1235809.19595428, 'volume7d': 3176372.02088968, 'volume30d': 9755543.13277528, 'marketCap': 430427.98524205, 'percentChange1h': 3.421388, 'percentChange24h': -13.071273, 'percentChange7d': 211.532983, 'lastUpdated': '2021-03-29T03:36:02.000Z', 'percentChange30d': 368.96703255, 'percentChange60d': 660.52916, 'percentChange90d': 851.87766155, 'fullyDilluttedMarketCap': 1227690199.38, 'dominance': 0.0417, 'turnover': 2.87111721, 'ytdPriceChangePercentage': 874.9597}, {'name': 'USD', 'price': 2.88868283565696, 'volume24h': 2101028012.379922, 'volume7d': 5400224092.422077, 'volume30d': 16585626215.634491, 'marketCap': 731780648.0696111, 'percentChange1h': 4.20446226, 'percentChange24h': -13.60923293, 'percentChange7d': 198.49353314, 'lastUpdated': '2021-03-29T03:35:08.000Z', 'percentChange30d': 368.96703255, 'percentChange60d': 660.52916, 'percentChange90d': 851.87766155, 'fullyDilluttedMarketCap': 1227690199.38, 'dominance': 0.0417, 'turnover': 2.87111721, 'ytdPriceChangePercentage': 874.9597}], 'platform': {'id': 1027, 'name': 'Ethereum', 'symbol': 'ETH', 'slug': 'ethereum', 'token_address': '0xb64ef51c888972c908cfacf59b47c1afbc0ab8ac'}, 'rank': 100, 'hasFilters': False, 'quote': {'btc': {'name': 'btc', 'price': 5.191e-05, 'volume24h': 37756.30976264, 'volume7d': 97044.1766696, 'volume30d': 298050.30552427, 'marketCap': 13150.38955408, 'percentChange1h': 3.589615, 'percentChange24h': -13.140747, 'percentChange7d': 206.300125, 'lastUpdated': '2021-03-29T03:36:02.000Z', 'percentChange30d': 368.96703255, 'percentChange60d': 660.52916, 'percentChange90d': 851.87766155, 'fullyDilluttedMarketCap': 1227690199.38, 'dominance': 0.0417, 'turnover': 2.87111721, 'ytdPriceChangePercentage': 874.9597}, 'eth': {'name': 'eth', 'price': 0.0016991, 'volume24h': 1235809.19595428, 'volume7d': 3176372.02088968, 'volume30d': 9755543.13277528, 'marketCap': 430427.98524205, 'percentChange1h': 3.421388, 'percentChange24h': -13.071273, 'percentChange7d': 211.532983, 'lastUpdated': '2021-03-29T03:36:02.000Z', 'percentChange30d': 368.96703255, 'percentChange60d': 660.52916, 'percentChange90d': 851.87766155, 'fullyDilluttedMarketCap': 1227690199.38, 'dominance': 0.0417, 'turnover': 2.87111721, 'ytdPriceChangePercentage': 874.9597}, 'USD': {'name': 'USD', 'price': 2.88868283565696, 'volume24h': 2101028012.379922, 'volume7d': 5400224092.422077, 'volume30d': 16585626215.634491, 'marketCap': 731780648.0696111, 'percentChange1h': 4.20446226, 'percentChange24h': -13.60923293, 'percentChange7d': 198.49353314, 'lastUpdated': '2021-03-29T03:35:08.000Z', 'percentChange30d': 368.96703255, 'percentChange60d': 660.52916, 'percentChange90d': 851.87766155, 'fullyDilluttedMarketCap': 1227690199.38, 'dominance': 0.0417, 'turnover': 2.87111721, 'ytdPriceChangePercentage': 874.9597}}}\n"
     ]
    }
   ],
   "source": [
    "def load_data():\n",
    "    cmc = requests.get('https://coinmarketcap.com')\n",
    "    soup = BeautifulSoup(cmc.content, 'html.parser')\n",
    "\n",
    "    data = soup.find('script', id='__NEXT_DATA__', type='application/json')\n",
    "    coins = {}\n",
    "    coin_data = json.loads(data.contents[0])\n",
    "    listings = coin_data['props']['initialState']['cryptocurrency']['listingLatest']['data']\n",
    "    for i in listings:\n",
    "      coins[str(i['id'])] = i['slug']\n",
    "\n",
    "    coin_name = []\n",
    "    coin_symbol = []\n",
    "    market_cap = []\n",
    "    percent_change_1h = []\n",
    "    percent_change_24h = []\n",
    "    percent_change_7d = []\n",
    "    price = []\n",
    "    volume_24h = []\n",
    "\n",
    "    for i in listings:\n",
    "        print(i)\n",
    "        coin_name.append(i['slug'])\n",
    "        coin_symbol.append(i['symbol'])\n",
    "        price.append(i['quote'][currency_price_unit]['price'])\n",
    "        percent_change_1h.append(i['quote'][currency_price_unit]['percentChange1h'])\n",
    "        percent_change_24h.append(i['quote'][currency_price_unit]['percentChange24h'])\n",
    "        percent_change_7d.append(i['quote'][currency_price_unit]['percentChange7d'])\n",
    "        market_cap.append(i['quote'][currency_price_unit]['marketCap'])\n",
    "        volume_24h.append(i['quote'][currency_price_unit]['volume24h'])\n",
    "\n",
    "    df = pd.DataFrame(columns=['coin_name', 'coin_symbol', 'market_cap', 'percent_change_1h','percent_change_24h', 'percent_change_7d', 'price', 'volume_24h'])\n",
    "\n",
    "    df['coin_name'] = coin_name\n",
    "    df['coin_symbol'] = coin_symbol\n",
    "    df['price'] = price\n",
    "    df['percentChange1h'] = percent_change_1h\n",
    "    df['percentChange24h'] = percent_change_24h\n",
    "    df['percentChange7d'] = percent_change_7d\n",
    "    df['marketCap'] = market_cap\n",
    "    df['volume24h'] = volume_24h\n",
    "    return df\n",
    "\n",
    "df = load_data()"
   ]
  },
  {
   "cell_type": "code",
   "execution_count": null,
   "metadata": {},
   "outputs": [],
   "source": []
  }
 ]
}